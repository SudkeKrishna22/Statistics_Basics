{
  "nbformat": 4,
  "nbformat_minor": 0,
  "metadata": {
    "colab": {
      "provenance": []
    },
    "kernelspec": {
      "name": "python3",
      "display_name": "Python 3"
    },
    "language_info": {
      "name": "python"
    }
  },
  "cells": [
    {
      "cell_type": "markdown",
      "source": [
        "1) What is statistics, and why is it important ?\n",
        "\n",
        "Ans :- Statistics is the science of collecting, organizing, analyzing, interpreting, and presenting data. It's important because it helps us understand and make informed decisions about the world around us by quantifying data, identifying trends, and drawing conclusions. Essentially, statistics helps us extract meaningful insights from data and use them to solve problems and make better choices.\n"
      ],
      "metadata": {
        "id": "Lvd8ritL8lz-"
      }
    },
    {
      "cell_type": "markdown",
      "source": [],
      "metadata": {
        "id": "G1qRY7uz8k7t"
      }
    },
    {
      "cell_type": "markdown",
      "source": [
        "2)  What are the two main types of statistics?\n",
        "\n",
        "Ans :- The two main types of statistics are Descriptive Statistics and Inferential Statistics. Descriptive statistics focuses on summarizing and describing the key characteristics of a dataset, while inferential statistics uses sample data to make generalizations or inferences about a larger population.\n"
      ],
      "metadata": {
        "id": "O8QRVvch9Eq1"
      }
    },
    {
      "cell_type": "markdown",
      "source": [
        "3) What are descriptive statistics ?\n",
        "\n",
        "Ans:- Descriptive statistics are techniques used to summarize, organize, and present data in a meaningful way, providing insights into the characteristics of a dataset without making inferences about a larger population"
      ],
      "metadata": {
        "id": "xPGZy7sg9d48"
      }
    },
    {
      "cell_type": "markdown",
      "source": [
        "4) What is inferential statistics?\n",
        "\n",
        "Ans:- Inferential statistics in data science involves using sample data to make predictions or draw conclusions about a larger population.\n"
      ],
      "metadata": {
        "id": "7jOzUNX49d77"
      }
    },
    {
      "cell_type": "markdown",
      "source": [
        "5) What is sampling in statistics?\n",
        "\n",
        "ans:- sampling is the process of selecting a subset of data from a larger population or dataset to make inferences about the whole population. This is done when it's impractical or impossible to analyze the entire population due to size or other constraints"
      ],
      "metadata": {
        "id": "u2n4ZPmT9d_P"
      }
    },
    {
      "cell_type": "markdown",
      "source": [
        "6) What are the different types of sampling methods?\n",
        "\n",
        "Ans:- Sampling methods are broadly categorized into two main types: probability sampling and non-probability sampling. Probability sampling aims to ensure each member of the population has a known, non-zero chance of being selected, while non-probability sampling does not.\n"
      ],
      "metadata": {
        "id": "zc6RwSI3_NSO"
      }
    },
    {
      "cell_type": "markdown",
      "source": [
        " 7) What is the difference between random and non-random samplin ?\n",
        "\n",
        " Ans:- The main difference between random and non-random sampling lies in how samples are selected from a population. In random sampling, each member of the population has an equal chance of being chosen, ensuring a more representative sample. Non-random sampling, on the other hand, uses criteria other than random chance, potentially introducing bias.\n",
        "\n"
      ],
      "metadata": {
        "id": "PiRbtzup_NT9"
      }
    },
    {
      "cell_type": "markdown",
      "source": [
        "8) Define and give examples of qualitative and quantitative data\n",
        "\n",
        "Ans:-\n",
        "1)Qualitative Data :-\n",
        "\n",
        "Definition: Describes non-numerical characteristics, attributes, or concepts.\n",
        "\n",
        "Examples:\n",
        "Colors: Red, blue, green.\n",
        "\n",
        "Descriptions: Taste, smell, texture, feeling.\n",
        "\n",
        "2)Quantitative Data:-\n",
        "\n",
        "Definition: Deals with numerical values that can be counted or measured.\n",
        "\n",
        "Examples:\n",
        "Measurements: Length, width, height, weight, area.\n",
        "\n",
        "Counts: Number of students, number of employees, number of items sold.\n",
        "\n",
        "Numerical data: Age, salary, temperature, speed.\n"
      ],
      "metadata": {
        "id": "rC2oOugf_NVm"
      }
    },
    {
      "cell_type": "markdown",
      "source": [
        "9) What are the different types of data in statistics ?\n",
        "\n",
        "Ans:- 1. Qualitative (Categorical) Data:\n",
        "there are 2 types of Qualitative (Categorical) Data:\n",
        "\n",
        "Nominal Data:\n",
        "Categorical data where categories have no inherent order or ranking. Examples include: blood types (A, B, AB, O), colors, or gender.\n",
        "\n",
        "Ordinal Data:\n",
        "Categorical data where categories have a meaningful order or ranking. Examples include: survey responses like \"strongly agree,\" \"agree,\" \"neutral,\" \"disagree,\" \"strongly disagree,\" or movie ratings (e.g., 1 star, 2 stars, etc)\n",
        "2. Quantitative (Numerical) Data:\n",
        "There are 2 types of  Quantitative (Numerical) Data\n",
        "\n",
        "Discrete Data:\n",
        "Numerical data where values can only be counted and typically represent whole numbers. Examples include: the number of students in a class, or the number of cars passing a point on a road in a minute.\n",
        "\n",
        "Continuous Data:\n",
        "Numerical data where values can take any value within a given range and are typically measured. Examples include: height, weight, or temperature.\n",
        "\n",
        "\n"
      ],
      "metadata": {
        "id": "3saI5_B7_NXl"
      }
    },
    {
      "cell_type": "markdown",
      "source": [
        "10) Explain nominal, ordinal, interval, and ratio levels of measurement ?\n",
        "\n",
        "Ans:- The four levels of measurement are nominal, ordinal, interval, and ratio. Nominal data classifies data into categories, ordinal data can be ranked, interval data has equal intervals between values, and ratio data has a true zero point and equal intervals.\n",
        "\n"
      ],
      "metadata": {
        "id": "xvxGLKzG_NY2"
      }
    },
    {
      "cell_type": "markdown",
      "source": [
        "11) What is the measure of central tendency ?\n",
        "\n",
        "Ans :- The central tendency measure is defined as the number used to represent the center or middle of a set of data values. The three commonly used measures of central tendency are the mean, median, and mode.\n",
        "\n"
      ],
      "metadata": {
        "id": "VpDsW5Mw_NaV"
      }
    },
    {
      "cell_type": "markdown",
      "source": [
        "12) Define mean, median, and mode .\n",
        "\n",
        "Ans :- Mean is the average of a set of numbers, calculated by summing all values and dividing by the total count. Median is the middle value when the data is sorted, and mode is the most frequently occurring value in the dataset.\n",
        "\n"
      ],
      "metadata": {
        "id": "SYslp7K3M3ut"
      }
    },
    {
      "cell_type": "markdown",
      "source": [
        "13) What is the significance of the measure of central tendency ?\n",
        "\n",
        "Ans :- Measures of central tendency (mean, median, mode) are significant because they provide a concise summary of a dataset, representing the typical or average value within it. This helps in understanding the overall data distribution and making comparisons between different datasets or groups\n"
      ],
      "metadata": {
        "id": "ytLHFdXcNRzg"
      }
    },
    {
      "cell_type": "markdown",
      "source": [
        "14) What is variance, and how is it calculated?\n",
        "\n",
        "Ans :- Variance is a statistical measure that quantifies the spread or dispersion of a set of data points. It essentially indicates how much the data values deviate from the mean (average) of the data set. The higher the variance, the more dispersed the data, and vice versa.\n",
        "\n",
        "The general steps for calculating variance are:\n",
        "\n",
        "1)Calculate the mean (average) of the data set.\n",
        "\n",
        "2)For each data point, subtract the mean and square the result.\n",
        "\n",
        "3)Sum up all the squared differences.\n",
        "\n",
        "4)Divide the sum by the number of data points (for population variance) or (number of data points - 1) for sample variance.\n",
        "\n",
        "5)The result is the variance.\n"
      ],
      "metadata": {
        "id": "RgYQ_dZTNguf"
      }
    },
    {
      "cell_type": "markdown",
      "source": [
        "15) What is standard deviation, and why is it important ?\n",
        "\n",
        "Ans :-   \n",
        "Definition of standard deviation :-  \n",
        "\n",
        "Standard deviation is a measure of the amount of variation or dispersion of a set of values.\n",
        "A low standard deviation indicates that the values tend to be close to the mean of the set.\n",
        "A high standard deviation indicates that the values are spread out over a wider range.\n",
        "\n",
        "Importance of standard deviation:-\n",
        "\n",
        "Standard deviation measures the spread of data around the mean and is important for assessing risk, quality, and data variability.\n",
        "\n"
      ],
      "metadata": {
        "id": "nBeygv3QOQWY"
      }
    },
    {
      "cell_type": "markdown",
      "source": [
        "16) Define and explain the term range in statistics\n",
        "\n",
        "Ans:- In statistics, the range is a simple measure of variability that represents the difference between the highest and lowest values in a dataset. It provides a quick understanding of the spread or dispersion of data within a set.\n"
      ],
      "metadata": {
        "id": "UYWMIkPjPHhy"
      }
    },
    {
      "cell_type": "markdown",
      "source": [
        "17) What is the difference between variance and standard deviation ?\n",
        "\n",
        "Ans :- Variance and standard deviation are both measures of data spread, but they differ in how they're calculated and what they represent. Variance is the average of the squared differences from the mean, while standard deviation is the square root of the variance. Standard deviation is expressed in the same units as the original data, whereas variance is in squared units.\n"
      ],
      "metadata": {
        "id": "XHrqLZGvPdET"
      }
    },
    {
      "cell_type": "markdown",
      "source": [
        "18) What is skewness in a dataset ?\n",
        "\n",
        "Ans :- Skewness in a dataset refers to the degree of asymmetry in its distribution. It indicates whether the data is more concentrated on one side of the mean than the other. A dataset can be positively skewed (right-skewed), negatively skewed (left-skewed), or have zero skewness (symmetrical).\n",
        "\n"
      ],
      "metadata": {
        "id": "5p3HS8l8PdGM"
      }
    },
    {
      "cell_type": "markdown",
      "source": [
        "19) What does it mean if a dataset is positively or negatively skewed ?\n",
        "\n",
        "Ans :- A positively skewed dataset is characterized by a longer tail on the right side of the distribution, indicating that there are more extreme values on the higher end of the scale. Conversely, a negatively skewed dataset has a longer tail on the left side, suggesting more extreme values on the lower end.\n"
      ],
      "metadata": {
        "id": "32sm5mdwPdH6"
      }
    },
    {
      "cell_type": "markdown",
      "source": [
        "20) Define and explain kurtosis ?\n",
        "\n",
        "Ans:- Kurtosis is a descriptive statistic used to help measure how data disperse between a distribution's center and tails, with larger values indicating a data distribution may have “heavy” tails that are thickly concentrated with observations or that are long with extreme observations.\n"
      ],
      "metadata": {
        "id": "vwpzb8rNPdKe"
      }
    },
    {
      "cell_type": "markdown",
      "source": [
        "21) What is the purpose of covariance ?\n",
        "\n",
        "Ans :- Covariance in statistics serves as a measure of how two variables change together. It indicates the direction of their relationship, whether they move in the same or opposite directions. A positive covariance suggests that as one variable increases, the other also tends to increase, while a negative covariance indicates an inverse relationship.\n",
        "\n"
      ],
      "metadata": {
        "id": "Ymrhw9P4QrjT"
      }
    },
    {
      "cell_type": "markdown",
      "source": [
        "22) What does correlation measure in statistics ?\n",
        "\n",
        "Ans :- correlation measures the strength and direction of a relationship between two variables"
      ],
      "metadata": {
        "id": "ekA0Pq4gQ-3E"
      }
    },
    {
      "cell_type": "markdown",
      "source": [
        "23) What is the difference between covariance and correlation ?\n",
        "\n",
        "Ans :- Covariance measures how two random variables change together, while correlation measures the strength and direction of the linear relationship between them\n"
      ],
      "metadata": {
        "id": "cFnL0s7NRQfI"
      }
    },
    {
      "cell_type": "markdown",
      "source": [
        "24) What are some real-world applications of statistics?\n",
        "\n",
        "Ans :- Statistics finds applications in diverse fields, aiding decision-making, research, and understanding of data. It's used in areas like healthcare, quality assurance, insurance, business, education, government, and even sports.\n"
      ],
      "metadata": {
        "id": "lNkroSNkRgeC"
      }
    },
    {
      "cell_type": "code",
      "source": [
        "# 1) How do you calculate the mean, median, and mode of a dataset ?\n",
        "\n",
        "Data = [1,2,3,4,5]\n",
        "import statistics\n",
        "print(statistics.mean(Data))\n",
        "print(statistics.median(Data))\n",
        "print(statistics.mode(Data))\n",
        "\n"
      ],
      "metadata": {
        "colab": {
          "base_uri": "https://localhost:8080/"
        },
        "id": "xuUHn6HnQ7r8",
        "outputId": "4271d4fe-f598-4b4b-bb3f-1e492cd041ae"
      },
      "execution_count": null,
      "outputs": [
        {
          "output_type": "stream",
          "name": "stdout",
          "text": [
            "3\n",
            "3\n",
            "1\n"
          ]
        }
      ]
    },
    {
      "cell_type": "code",
      "source": [
        "# 2) Write a Python program to compute the variance and standard deviation of a dataset ?\n",
        "\n",
        "import numpy as np\n",
        "\n",
        "dataset = [10, 12, 23, 23, 16, 23, 21, 16]\n",
        "\n",
        "variance = np.var(dataset)\n",
        "std_deviation = np.std(dataset)\n",
        "\n",
        "print(f\"Variance: {variance}\")\n",
        "print(f\"Standard Deviation: {std_deviation}\")\n"
      ],
      "metadata": {
        "colab": {
          "base_uri": "https://localhost:8080/"
        },
        "id": "CtmLtDdwTd7y",
        "outputId": "6ce7049d-819c-402d-f64d-c22ba92f3a11"
      },
      "execution_count": null,
      "outputs": [
        {
          "output_type": "stream",
          "name": "stdout",
          "text": [
            "Variance: 24.0\n",
            "Standard Deviation: 4.898979485566356\n"
          ]
        }
      ]
    },
    {
      "cell_type": "code",
      "source": [
        "# 3) Create a dataset and classify it into nominal, ordinal, interval, and ratio types ?\n",
        "\n",
        "import pandas as pd\n",
        "\n",
        "data = {\n",
        "    \"Name\": [\"Alice\", \"Bob\", \"Charlie\", \"Diana\"],\n",
        "    \"Gender\": [\"Female\", \"Male\", \"Male\", \"Female\"],\n",
        "    \"Education Level\": [\"Bachelor's\", \"High School\", \"Master's\", \"PhD\"],\n",
        "    \"Satisfaction Rating\": [4, 3, 5, 2],\n",
        "    \"Temperature (°C)\": [22, 25, 20, 18],\n",
        "    \"Income ($)\": [50000, 42000, 75000, 88000],\n",
        "    \"Age\": [30, 25, 35, 40]\n",
        "}\n",
        "\n",
        "df = pd.DataFrame(data)\n",
        "\n",
        "print(\"=== Dataset ===\")\n",
        "print(df)\n",
        "\n",
        "# Classification of each variable\n",
        "measurement_levels = {\n",
        "    \"Name\": \"Nominal\",\n",
        "    \"Gender\": \"Nominal\",\n",
        "    \"Education Level\": \"Ordinal\",\n",
        "    \"Satisfaction Rating\": \"Ordinal\",\n",
        "    \"Temperature (°C)\": \"Interval\",\n",
        "    \"Income ($)\": \"Ratio\",\n",
        "    \"Age\": \"Ratio\"\n",
        "}\n",
        "\n",
        "print(\"\\n=== Measurement Levels ===\")\n",
        "for column, level in measurement_levels.items():\n",
        "    print(f\"{column}: {level}\")\n",
        "\n"
      ],
      "metadata": {
        "colab": {
          "base_uri": "https://localhost:8080/"
        },
        "id": "jg3GrsgGUZmk",
        "outputId": "b35ce3ef-d5de-4763-ad9c-8e16a4f64e8e"
      },
      "execution_count": null,
      "outputs": [
        {
          "output_type": "stream",
          "name": "stdout",
          "text": [
            "=== Dataset ===\n",
            "      Name  Gender Education Level  Satisfaction Rating  Temperature (°C)  \\\n",
            "0    Alice  Female      Bachelor's                    4                22   \n",
            "1      Bob    Male     High School                    3                25   \n",
            "2  Charlie    Male        Master's                    5                20   \n",
            "3    Diana  Female             PhD                    2                18   \n",
            "\n",
            "   Income ($)  Age  \n",
            "0       50000   30  \n",
            "1       42000   25  \n",
            "2       75000   35  \n",
            "3       88000   40  \n",
            "\n",
            "=== Measurement Levels ===\n",
            "Name: Nominal\n",
            "Gender: Nominal\n",
            "Education Level: Ordinal\n",
            "Satisfaction Rating: Ordinal\n",
            "Temperature (°C): Interval\n",
            "Income ($): Ratio\n",
            "Age: Ratio\n"
          ]
        }
      ]
    },
    {
      "cell_type": "code",
      "source": [
        "# 4) Implement sampling techniques like random sampling and stratified sampling ?\n",
        "\n",
        "# !pip install pandas scikit-learn\n",
        "\n",
        "import pandas as pd\n",
        "from sklearn.model_selection import train_test_split\n",
        "\n",
        "\n",
        "data = {\n",
        "    \"Name\": [\"Alice\", \"Bob\", \"Charlie\", \"Diana\", \"Evan\", \"Fiona\", \"George\", \"Hannah\"],\n",
        "    \"Gender\": [\"Female\", \"Male\", \"Male\", \"Female\", \"Male\", \"Female\", \"Male\", \"Female\"],\n",
        "    \"Age\": [30, 25, 35, 40, 22, 28, 34, 29],\n",
        "    \"Income ($)\": [50000, 42000, 75000, 88000, 39000, 48000, 70000, 52000]\n",
        "}\n",
        "\n",
        "df = pd.DataFrame(data)\n",
        "\n",
        "print(\"=== Original Dataset ===\")\n",
        "print(df)\n",
        "\n",
        "\n",
        "random_sample = df.sample(frac=0.5, random_state=42)\n",
        "\n",
        "print(\"\\n=== Random Sample (50%) ===\")\n",
        "print(random_sample)\n",
        "\n",
        "\n",
        "# 📌 2. Stratified Sampling (based on Gender)\n",
        "\n",
        "strat_train, strat_test = train_test_split(df, test_size=0.5, stratify=df[\"Gender\"], random_state=42)\n",
        "\n",
        "print(\"\\n=== Stratified Sample (50%) Based on Gender ===\")\n",
        "print(strat_test)\n",
        "\n",
        "print(\"\\n--- Gender Distribution ---\")\n",
        "print(\"Original:\")\n",
        "print(df[\"Gender\"].value_counts(normalize=True))\n",
        "print(\"Stratified Sample:\")\n",
        "print(strat_test[\"Gender\"].value_counts(normalize=True))\n",
        "\n"
      ],
      "metadata": {
        "colab": {
          "base_uri": "https://localhost:8080/"
        },
        "id": "ZEpUapWlVM-T",
        "outputId": "464a34ea-c25e-4def-9519-7ca6b8c23c45"
      },
      "execution_count": null,
      "outputs": [
        {
          "output_type": "stream",
          "name": "stdout",
          "text": [
            "=== Original Dataset ===\n",
            "      Name  Gender  Age  Income ($)\n",
            "0    Alice  Female   30       50000\n",
            "1      Bob    Male   25       42000\n",
            "2  Charlie    Male   35       75000\n",
            "3    Diana  Female   40       88000\n",
            "4     Evan    Male   22       39000\n",
            "5    Fiona  Female   28       48000\n",
            "6   George    Male   34       70000\n",
            "7   Hannah  Female   29       52000\n",
            "\n",
            "=== Random Sample (50%) ===\n",
            "     Name  Gender  Age  Income ($)\n",
            "1     Bob    Male   25       42000\n",
            "5   Fiona  Female   28       48000\n",
            "0   Alice  Female   30       50000\n",
            "7  Hannah  Female   29       52000\n",
            "\n",
            "=== Stratified Sample (50%) Based on Gender ===\n",
            "    Name  Gender  Age  Income ($)\n",
            "5  Fiona  Female   28       48000\n",
            "0  Alice  Female   30       50000\n",
            "4   Evan    Male   22       39000\n",
            "1    Bob    Male   25       42000\n",
            "\n",
            "--- Gender Distribution ---\n",
            "Original:\n",
            "Gender\n",
            "Female    0.5\n",
            "Male      0.5\n",
            "Name: proportion, dtype: float64\n",
            "Stratified Sample:\n",
            "Gender\n",
            "Female    0.5\n",
            "Male      0.5\n",
            "Name: proportion, dtype: float64\n"
          ]
        }
      ]
    },
    {
      "cell_type": "code",
      "source": [
        "# 5) Write a Python function to calculate the range of a dataset ?\n",
        "\n",
        "def calculate_range(data):\n",
        "    if not data:\n",
        "        return None\n",
        "    return max(data) - min(data)\n",
        "\n",
        "dataset = [10, 15, 20, 25, 30]\n",
        "range_value = calculate_range(dataset)\n",
        "\n",
        "print(f\"Range of the dataset: {range_value}\")\n"
      ],
      "metadata": {
        "colab": {
          "base_uri": "https://localhost:8080/"
        },
        "id": "K9DrbfKUWVaS",
        "outputId": "cb39b1bb-5e14-4b7d-e804-58961c2aafbc"
      },
      "execution_count": null,
      "outputs": [
        {
          "output_type": "stream",
          "name": "stdout",
          "text": [
            "Range of the dataset: 20\n"
          ]
        }
      ]
    },
    {
      "cell_type": "code",
      "source": [
        "# 6) Create a dataset and plot its histogram to visualize skewness ?\n",
        "\n",
        "# !pip install matplotlib pandas scipy\n",
        "\n",
        "import pandas as pd\n",
        "import numpy as np\n",
        "import matplotlib.pyplot as plt\n",
        "from scipy.stats import skew\n",
        "\n",
        "np.random.seed(42)\n",
        "data = np.random.exponential(scale=2.0, size=1000)\n",
        "\n",
        "df = pd.DataFrame({'Value': data})\n",
        "\n",
        "skewness_value = skew(df['Value'])\n",
        "\n",
        "plt.figure(figsize=(8, 5))\n",
        "plt.hist(df['Value'], bins=30, color='skyblue', edgecolor='black')\n",
        "plt.title(f\"Histogram of Dataset (Skewness = {skewness_value:.2f})\")\n",
        "plt.xlabel(\"Value\")\n",
        "plt.ylabel(\"Frequency\")\n",
        "plt.grid(True)\n",
        "plt.tight_layout()\n",
        "plt.show()\n",
        "\n",
        "\n"
      ],
      "metadata": {
        "colab": {
          "base_uri": "https://localhost:8080/",
          "height": 507
        },
        "id": "csfi2uryXMH2",
        "outputId": "68f26115-5c76-4ab8-8f30-8142a54f4dc7"
      },
      "execution_count": null,
      "outputs": [
        {
          "output_type": "display_data",
          "data": {
            "text/plain": [
              "<Figure size 800x500 with 1 Axes>"
            ],
            "image/png": "[encoded data removed]"
          },
          "metadata": {}
        }
      ]
    },
    {
      "cell_type": "code",
      "source": [
        "# 7) Calculate skewness and kurtosis of a dataset using Python libraries ?\n",
        "\n",
        "import pandas as pd\n",
        "import numpy as np\n",
        "from scipy.stats import skew, kurtosis\n",
        "\n",
        "np.random.seed(42)\n",
        "data = np.random.exponential(scale=2.0, size=1000)\n",
        "\n",
        "\n",
        "series = pd.Series(data)\n",
        "\n",
        "skewness_value = skew(series)\n",
        "kurtosis_value = kurtosis(series)\n",
        "\n",
        "print(f\"Skewness: {skewness_value:.2f}\")\n",
        "print(f\"Kurtosis: {kurtosis_value:.2f}\")\n"
      ],
      "metadata": {
        "colab": {
          "base_uri": "https://localhost:8080/"
        },
        "id": "qcWgEt5hXZ1g",
        "outputId": "ffa7d531-0010-4852-9c32-4c14b8f435ff"
      },
      "execution_count": null,
      "outputs": [
        {
          "output_type": "stream",
          "name": "stdout",
          "text": [
            "Skewness: 1.87\n",
            "Kurtosis: 5.22\n"
          ]
        }
      ]
    },
    {
      "cell_type": "code",
      "source": [
        "# 8) Generate a dataset and demonstrate positive and negative skewness\n",
        "\n",
        "import numpy as np\n",
        "import matplotlib.pyplot as plt\n",
        "from scipy.stats import skew\n",
        "\n",
        "np.random.seed(42)\n",
        "\n",
        "positive_skew_data = np.random.exponential(scale=2.0, size=1000)\n",
        "\n",
        "negative_skew_data = -1 * np.random.exponential(scale=2.0, size=1000) + 10\n",
        "\n",
        "pos_skewness = skew(positive_skew_data)\n",
        "neg_skewness = skew(negative_skew_data)\n",
        "\n",
        "plt.figure(figsize=(12, 5))\n",
        "\n",
        "plt.subplot(1, 2, 1)\n",
        "plt.hist(positive_skew_data, bins=30, color='skyblue', edgecolor='black')\n",
        "plt.title(f\"Positive Skew (Right) - Skewness: {pos_skewness:.2f}\")\n",
        "plt.xlabel(\"Value\")\n",
        "plt.ylabel(\"Frequency\")\n",
        "\n",
        "plt.subplot(1, 2, 2)\n",
        "plt.hist(negative_skew_data, bins=30, color='salmon', edgecolor='black')\n",
        "plt.title(f\"Negative Skew (Left) - Skewness: {neg_skewness:.2f}\")\n",
        "plt.xlabel(\"Value\")\n",
        "plt.ylabel(\"Frequency\")\n",
        "\n",
        "plt.tight_layout()\n",
        "plt.show()\n"
      ],
      "metadata": {
        "id": "1gWvlmteX4yg"
      },
      "execution_count": null,
      "outputs": []
    },
    {
      "cell_type": "code",
      "source": [
        "# 9) Write a Python script to calculate covariance between two datasets ?\n",
        "\n",
        "import numpy as np\n",
        "\n",
        "x = [10, 20, 30, 40, 50]\n",
        "y = [15, 25, 35, 45, 55]\n",
        "\n",
        "def covariance_manual(x, y):\n",
        "    if len(x) != len(y):\n",
        "        raise ValueError(\"Datasets must have the same length\")\n",
        "    n = len(x)\n",
        "    mean_x = sum(x) / n\n",
        "    mean_y = sum(y) / n\n",
        "    cov = sum((xi - mean_x) * (yi - mean_y) for xi, yi in zip(x, y)) / n\n",
        "    return cov\n",
        "\n",
        "cov_manual = covariance_manual(x, y)\n",
        "print(f\"Covariance (manual calculation): {cov_manual}\")\n",
        "\n",
        "cov_matrix = np.cov(x, y, bias=True)\n",
        "cov_numpy = cov_matrix[0, 1]\n",
        "print(f\"Covariance (NumPy): {cov_numpy}\")\n",
        "\n"
      ],
      "metadata": {
        "colab": {
          "base_uri": "https://localhost:8080/"
        },
        "id": "4gJCQhDOY057",
        "outputId": "6aeeafad-1767-45e0-a8e5-c58e29f11c14"
      },
      "execution_count": null,
      "outputs": [
        {
          "output_type": "stream",
          "name": "stdout",
          "text": [
            "Covariance (manual calculation): 200.0\n",
            "Covariance (NumPy): 200.0\n"
          ]
        }
      ]
    },
    {
      "cell_type": "code",
      "source": [
        "# 10) Write a Python script to calculate the correlation coefficient between two datasets ?\n",
        "\n",
        "import numpy as np\n",
        "\n",
        "x = [2, 4, 6, 8, 10]\n",
        "y = [1, 3, 5, 7, 9]\n",
        "\n",
        "correlation_matrix = np.corrcoef(x, y)\n",
        "correlation_numpy = correlation_matrix[0, 1]\n",
        "\n",
        "print(f\"Correlation coefficient (NumPy): {correlation_numpy:.4f}\")\n",
        "\n"
      ],
      "metadata": {
        "colab": {
          "base_uri": "https://localhost:8080/"
        },
        "id": "-xlOdaCnZGrs",
        "outputId": "9635cbb4-733d-451f-d24c-f0cb009eb680"
      },
      "execution_count": null,
      "outputs": [
        {
          "output_type": "stream",
          "name": "stdout",
          "text": [
            "Correlation coefficient (NumPy): 1.0000\n"
          ]
        }
      ]
    },
    {
      "cell_type": "code",
      "source": [
        "# 11) Create a scatter plot to visualize the relationship between two variables ?\n",
        "\n",
        "import matplotlib.pyplot as plt\n",
        "\n",
        "\n",
        "x = [2, 4, 6, 8, 10, 12, 14]\n",
        "y = [1, 3, 5, 7, 9, 11, 13]\n",
        "\n",
        "plt.scatter(x, y, color='blue', marker='o')\n",
        "\n",
        "plt.title(\"Scatter Plot of X vs Y\")\n",
        "plt.xlabel(\"X values\")\n",
        "plt.ylabel(\"Y values\")\n",
        "\n",
        "plt.grid(True)\n",
        "\n",
        "plt.show()\n"
      ],
      "metadata": {
        "colab": {
          "base_uri": "https://localhost:8080/",
          "height": 472
        },
        "id": "9j5L_BZlZte2",
        "outputId": "b8207ad5-23ff-4ede-8e90-d4f164018bd7"
      },
      "execution_count": null,
      "outputs": [
        {
          "output_type": "display_data",
          "data": {
            "text/plain": [
              "<Figure size 640x480 with 1 Axes>"
            ],
            "image/png": "[encoded data removed]"
          },
          "metadata": {}
        }
      ]
    },
    {
      "cell_type": "code",
      "source": [
        "# 12) Implement and compare simple random sampling and systematic sampling ?\n",
        "\n",
        "import pandas as pd\n",
        "import numpy as np\n",
        "\n",
        "data = pd.DataFrame({\n",
        "    \"ID\": range(1, 21),\n",
        "    \"Value\": np.random.randint(10, 100, size=20)\n",
        "})\n",
        "\n",
        "print(\"=== Original Dataset ===\")\n",
        "print(data)\n",
        "\n",
        "\n",
        "def simple_random_sampling(df, sample_size, random_state=None):\n",
        "    return df.sample(n=sample_size, random_state=random_state).sort_index()\n",
        "\n",
        "def systematic_sampling(df, sample_size):\n",
        "    n = len(df)\n",
        "    k = n // sample_size\n",
        "    start = np.random.randint(0, k)\n",
        "    indices = list(range(start, n, k))\n",
        "    return df.iloc[indices]\n",
        "\n",
        "sample_size = 5\n",
        "\n",
        "random_sample = simple_random_sampling(data, sample_size, random_state=42)\n",
        "systematic_sample = systematic_sampling(data, sample_size)\n",
        "\n",
        "print(\"\\n=== Simple Random Sample ===\")\n",
        "print(random_sample)\n",
        "\n",
        "print(\"\\n=== Systematic Sample ===\")\n",
        "print(systematic_sample)\n"
      ],
      "metadata": {
        "colab": {
          "base_uri": "https://localhost:8080/"
        },
        "id": "ldE383r2Z_CC",
        "outputId": "a5adafa9-83df-4b86-ad43-5e6c197f0a2c"
      },
      "execution_count": null,
      "outputs": [
        {
          "output_type": "stream",
          "name": "stdout",
          "text": [
            "=== Original Dataset ===\n",
            "    ID  Value\n",
            "0    1     56\n",
            "1    2     21\n",
            "2    3     71\n",
            "3    4     89\n",
            "4    5     97\n",
            "5    6     92\n",
            "6    7     17\n",
            "7    8     30\n",
            "8    9     90\n",
            "9   10     96\n",
            "10  11     89\n",
            "11  12     79\n",
            "12  13     81\n",
            "13  14     34\n",
            "14  15     91\n",
            "15  16     98\n",
            "16  17     21\n",
            "17  18     24\n",
            "18  19     68\n",
            "19  20     35\n",
            "\n",
            "=== Simple Random Sample ===\n",
            "    ID  Value\n",
            "0    1     56\n",
            "1    2     21\n",
            "8    9     90\n",
            "15  16     98\n",
            "17  18     24\n",
            "\n",
            "=== Systematic Sample ===\n",
            "    ID  Value\n",
            "0    1     56\n",
            "4    5     97\n",
            "8    9     90\n",
            "12  13     81\n",
            "16  17     21\n"
          ]
        }
      ]
    },
    {
      "cell_type": "code",
      "source": [
        "# 13) Calculate the mean, median, and mode of grouped data\n",
        "\n",
        "import numpy as np\n",
        "\n",
        "class_intervals = [(0, 10), (10, 20), (20, 30), (30, 40), (40, 50)]\n",
        "frequencies = np.array([5, 8, 15, 10, 7])\n",
        "\n",
        "midpoints = np.array([(lower + upper) / 2 for lower, upper in class_intervals])\n",
        "\n",
        "mean = np.sum(midpoints * frequencies) / np.sum(frequencies)\n",
        "\n",
        "cum_frequencies = np.cumsum(frequencies)\n",
        "total_freq = np.sum(frequencies)\n",
        "\n",
        "median_class_index = np.where(cum_frequencies >= total_freq / 2)[0][0]\n",
        "L = class_intervals[median_class_index][0]\n",
        "F = cum_frequencies[median_class_index - 1] if median_class_index > 0 else 0\n",
        "f_m = frequencies[median_class_index]\n",
        "h = class_intervals[median_class_index][1] - class_intervals[median_class_index][0]\n",
        "median = L + ((total_freq / 2 - F) / f_m) * h\n",
        "\n",
        "\n",
        "modal_class_index = np.argmax(frequencies)\n",
        "L = class_intervals[modal_class_index][0]\n",
        "f1 = frequencies[modal_class_index]\n",
        "f0 = frequencies[modal_class_index - 1] if modal_class_index > 0 else 0\n",
        "f2 = frequencies[modal_class_index + 1] if modal_class_index < len(frequencies) - 1 else 0\n",
        "h = class_intervals[modal_class_index][1] - class_intervals[modal_class_index][0]\n",
        "mode = L + ((f1 - f0) / ((2 * f1) - f0 - f2)) * h\n",
        "\n",
        "print(f\"Mean: {mean:.2f}\")\n",
        "print(f\"Median: {median:.2f}\")\n",
        "print(f\"Mode: {mode:.2f}\")\n"
      ],
      "metadata": {
        "id": "ha2whFwOaWwu",
        "colab": {
          "base_uri": "https://localhost:8080/"
        },
        "outputId": "cd138c72-bbd7-4ec0-e11d-6ab3c0abb3b7"
      },
      "execution_count": 16,
      "outputs": [
        {
          "output_type": "stream",
          "name": "stdout",
          "text": [
            "Mean: 26.33\n",
            "Median: 26.33\n",
            "Mode: 25.83\n"
          ]
        }
      ]
    },
    {
      "cell_type": "code",
      "source": [
        "# 14)  Simulate data using Python and calculate its central tendency and dispersion.\n",
        "\n",
        "\n",
        "import numpy as np\n",
        "from scipy import stats\n",
        "\n",
        "np.random.seed(42)\n",
        "data = np.random.normal(loc=50, scale=10, size=1000)\n",
        "\n",
        "mean = np.mean(data)\n",
        "median = np.median(data)\n",
        "mode_result = stats.mode(data, keepdims=True)\n",
        "mode = mode_result.mode[0]\n",
        "\n",
        "data_range = np.ptp(data)\n",
        "variance = np.var(data)\n",
        "std_dev = np.std(data)\n",
        "\n",
        "print(f\"Mean: {mean:.2f}\")\n",
        "print(f\"Median: {median:.2f}\")\n",
        "print(f\"Mode: {mode:.2f}\")\n",
        "print(f\"Range: {data_range:.2f}\")\n",
        "print(f\"Variance: {variance:.2f}\")\n",
        "print(f\"Standard Deviation: {std_dev:.2f}\")\n"
      ],
      "metadata": {
        "colab": {
          "base_uri": "https://localhost:8080/"
        },
        "id": "V6pKaD5amZD7",
        "outputId": "3d8633e1-d5ad-4c3e-a85a-d980a2b01656"
      },
      "execution_count": 17,
      "outputs": [
        {
          "output_type": "stream",
          "name": "stdout",
          "text": [
            "Mean: 50.19\n",
            "Median: 50.25\n",
            "Mode: 17.59\n",
            "Range: 70.94\n",
            "Variance: 95.79\n",
            "Standard Deviation: 9.79\n"
          ]
        }
      ]
    },
    {
      "cell_type": "code",
      "source": [
        "#15) Use NumPy or pandas to summarize a dataset’s descriptive statistics\n",
        "\n",
        "import numpy as np\n",
        "\n",
        "\n",
        "np.random.seed(42)\n",
        "data = np.random.normal(loc=50, scale=10, size=1000)\n",
        "\n",
        "mean = np.mean(data)\n",
        "median = np.median(data)\n",
        "mode = stats.mode(data, keepdims=True).mode[0]\n",
        "std_dev = np.std(data)\n",
        "variance = np.var(data)\n",
        "minimum = np.min(data)\n",
        "maximum = np.max(data)\n",
        "range_ = np.ptp(data)\n",
        "q1 = np.percentile(data, 25)\n",
        "q3 = np.percentile(data, 75)\n",
        "iqr = q3 - q1\n",
        "\n",
        "print(\"NumPy Descriptive Statistics:\")\n",
        "print(f\"Mean: {mean:.2f}\")\n",
        "print(f\"Median: {median:.2f}\")\n",
        "print(f\"Mode: {mode:.2f}\")\n",
        "print(f\"Std Dev: {std_dev:.2f}\")\n",
        "print(f\"Variance: {variance:.2f}\")\n",
        "print(f\"Min: {minimum:.2f}\")\n",
        "print(f\"Max: {maximum:.2f}\")\n",
        "print(f\"Range: {range_:.2f}\")\n",
        "print(f\"Q1: {q1:.2f}\")\n",
        "print(f\"Q3: {q3:.2f}\")\n",
        "print(f\"IQR: {iqr:.2f}\")\n",
        "\n"
      ],
      "metadata": {
        "colab": {
          "base_uri": "https://localhost:8080/"
        },
        "id": "RZCxaWsrmwzn",
        "outputId": "40b5c2af-49fe-4f71-bde4-c1c7b31f0b73"
      },
      "execution_count": 18,
      "outputs": [
        {
          "output_type": "stream",
          "name": "stdout",
          "text": [
            "NumPy Descriptive Statistics:\n",
            "Mean: 50.19\n",
            "Median: 50.25\n",
            "Mode: 17.59\n",
            "Std Dev: 9.79\n",
            "Variance: 95.79\n",
            "Min: 17.59\n",
            "Max: 88.53\n",
            "Range: 70.94\n",
            "Q1: 43.52\n",
            "Q3: 56.48\n",
            "IQR: 12.96\n"
          ]
        }
      ]
    },
    {
      "cell_type": "code",
      "source": [
        "# 16) Plot a boxplot to understand the spread and identify outliers\n",
        "\n",
        "import numpy as np\n",
        "import pandas as pd\n",
        "import matplotlib.pyplot as plt\n",
        "import seaborn as sns\n",
        "\n",
        "# Simulate a dataset\n",
        "np.random.seed(42)\n",
        "data = np.random.normal(loc=50, scale=10, size=1000)\n",
        "\n",
        "# Convert to DataFrame\n",
        "df = pd.DataFrame(data, columns=['Values'])\n",
        "\n",
        "# Plot a boxplot using Seaborn\n",
        "plt.figure(figsize=(8, 5))\n",
        "sns.boxplot(x='Values', data=df, color='skyblue')\n",
        "plt.title(\"Boxplot of Simulated Data\")\n",
        "plt.xlabel(\"Values\")\n",
        "plt.grid(True)\n",
        "plt.show()\n"
      ],
      "metadata": {
        "colab": {
          "base_uri": "https://localhost:8080/",
          "height": 487
        },
        "id": "4e3K4aH9nfRQ",
        "outputId": "38bac22a-11b6-4c36-8b24-877eb8ecb8a1"
      },
      "execution_count": 20,
      "outputs": [
        {
          "output_type": "display_data",
          "data": {
            "text/plain": [
              "<Figure size 800x500 with 1 Axes>"
            ],
            "image/png": "[encoded data removed]"
          },
          "metadata": {}
        }
      ]
    },
    {
      "cell_type": "code",
      "source": [
        "# 17)  Calculate the interquartile range (IQR) of a dataset\n",
        "\n",
        "import numpy as np\n",
        "\n",
        "\n",
        "np.random.seed(42)\n",
        "data = np.random.normal(loc=50, scale=10, size=1000)\n",
        "\n",
        "\n",
        "q1 = np.percentile(data, 25)\n",
        "q3 = np.percentile(data, 75)\n",
        "\n",
        "\n",
        "iqr = q3 - q1\n",
        "\n",
        "print(f\"Q1 (25th percentile): {q1:.2f}\")\n",
        "print(f\"Q3 (75th percentile): {q3:.2f}\")\n",
        "print(f\"IQR: {iqr:.2f}\")\n"
      ],
      "metadata": {
        "colab": {
          "base_uri": "https://localhost:8080/"
        },
        "id": "h9n1UptGnqQD",
        "outputId": "df1dabaf-a53c-4e63-8940-dd58f6a89b6b"
      },
      "execution_count": 21,
      "outputs": [
        {
          "output_type": "stream",
          "name": "stdout",
          "text": [
            "Q1 (25th percentile): 43.52\n",
            "Q3 (75th percentile): 56.48\n",
            "IQR: 12.96\n"
          ]
        }
      ]
    },
    {
      "cell_type": "code",
      "source": [
        "# 18) Implement Z-score normalization and explain its significance\n",
        "\n",
        "import numpy as np\n",
        "\n",
        "np.random.seed(42)\n",
        "data = np.random.normal(loc=50, scale=10, size=1000)\n",
        "\n",
        "mean = np.mean(data)\n",
        "std_dev = np.std(data)\n",
        "z_scores = (data - mean) / std_dev\n",
        "\n",
        "print(f\"Original Mean: {mean:.2f}\")\n",
        "print(f\"Original Std Dev: {std_dev:.2f}\")\n",
        "print(f\"Z-score Mean: {np.mean(z_scores):.2f}\")\n",
        "print(f\"Z-score Std Dev: {np.std(z_scores):.2f}\")\n",
        "\n"
      ],
      "metadata": {
        "colab": {
          "base_uri": "https://localhost:8080/"
        },
        "id": "0F2HZmW6oAtn",
        "outputId": "d6329093-4096-4866-adb1-60775dcdd8a8"
      },
      "execution_count": 23,
      "outputs": [
        {
          "output_type": "stream",
          "name": "stdout",
          "text": [
            "Original Mean: 50.19\n",
            "Original Std Dev: 9.79\n",
            "Z-score Mean: -0.00\n",
            "Z-score Std Dev: 1.00\n"
          ]
        }
      ]
    },
    {
      "cell_type": "code",
      "source": [
        "# 19) Compare two datasets using their standard deviations\n",
        "\n",
        "import numpy as np\n",
        "\n",
        "np.random.seed(42)\n",
        "dataset1 = np.random.normal(loc=50, scale=5, size=1000)\n",
        "dataset2 = np.random.normal(loc=50, scale=15, size=1000)\n",
        "\n",
        "std_dev1 = np.std(dataset1)\n",
        "std_dev2 = np.std(dataset2)\n",
        "\n",
        "print(f\"Standard Deviation of Dataset 1: {std_dev1:.2f}\")\n",
        "print(f\"Standard Deviation of Dataset 2: {std_dev2:.2f}\")\n",
        "\n",
        "import matplotlib.pyplot as plt\n",
        "\n",
        "plt.figure(figsize=(10, 5))\n",
        "plt.hist(dataset1, bins=30, alpha=0.6, label='Dataset 1 (σ ≈ 5)', color='skyblue')\n",
        "plt.hist(dataset2, bins=30, alpha=0.6, label='Dataset 2 (σ ≈ 15)', color='salmon')\n",
        "plt.title(\"Comparison of Two Datasets\")\n",
        "plt.xlabel(\"Values\")\n",
        "plt.ylabel(\"Frequency\")\n",
        "plt.legend()\n",
        "plt.grid(True)\n",
        "plt.show()\n"
      ],
      "metadata": {
        "colab": {
          "base_uri": "https://localhost:8080/",
          "height": 522
        },
        "id": "UqNohEljof-0",
        "outputId": "930276f4-0bbc-4bc1-eb9f-c3a40a8f75cd"
      },
      "execution_count": 25,
      "outputs": [
        {
          "output_type": "stream",
          "name": "stdout",
          "text": [
            "Standard Deviation of Dataset 1: 4.89\n",
            "Standard Deviation of Dataset 2: 14.95\n"
          ]
        },
        {
          "output_type": "display_data",
          "data": {
            "text/plain": [
              "<Figure size 1000x500 with 1 Axes>"
            ],
            "image/png": "[encoded data removed]"
          },
          "metadata": {}
        }
      ]
    },
    {
      "cell_type": "code",
      "source": [
        "# 20) Write a Python program to visualize covariance using a heatmap\n",
        "\n",
        "import numpy as np\n",
        "import pandas as pd\n",
        "import seaborn as sns\n",
        "import matplotlib.pyplot as plt\n",
        "\n",
        "np.random.seed(42)\n",
        "data = {\n",
        "    'Feature_A': np.random.normal(50, 10, 100),\n",
        "    'Feature_B': np.random.normal(30, 5, 100),\n",
        "    'Feature_C': np.random.normal(20, 7, 100)\n",
        "}\n",
        "\n",
        "df = pd.DataFrame(data)\n",
        "\n",
        "cov_matrix = df.cov()\n",
        "\n",
        "plt.figure(figsize=(8, 6))\n",
        "sns.heatmap(cov_matrix, annot=True, fmt=\".2f\", cmap=\"coolwarm\", linewidths=0.5)\n",
        "plt.title(\"Covariance Matrix Heatmap\")\n",
        "plt.show()\n",
        "\n"
      ],
      "metadata": {
        "colab": {
          "base_uri": "https://localhost:8080/",
          "height": 545
        },
        "id": "gPnLdEHZo2RS",
        "outputId": "2516fcda-6f46-4007-faf5-b8c509afe63a"
      },
      "execution_count": 26,
      "outputs": [
        {
          "output_type": "display_data",
          "data": {
            "text/plain": [
              "<Figure size 800x600 with 2 Axes>"
            ],
            "image/png": "[encoded data removed]"
          },
          "metadata": {}
        }
      ]
    },
    {
      "cell_type": "code",
      "source": [
        "# 21) Use seaborn to create a correlation matrix for a dataset\n",
        "\n",
        "import numpy as np\n",
        "import pandas as pd\n",
        "import seaborn as sns\n",
        "import matplotlib.pyplot as plt\n",
        "\n",
        "np.random.seed(42)\n",
        "data = {\n",
        "    'Feature_1': np.random.normal(50, 10, 100),\n",
        "    'Feature_2': np.random.normal(30, 5, 100),\n",
        "    'Feature_3': np.random.normal(20, 7, 100),\n",
        "    'Feature_4': np.random.normal(70, 15, 100)\n",
        "}\n",
        "\n",
        "df = pd.DataFrame(data)\n",
        "\n",
        "corr_matrix = df.corr()\n",
        "\n",
        "plt.figure(figsize=(8, 6))\n",
        "sns.heatmap(corr_matrix, annot=True, cmap='coolwarm', center=0, linewidths=0.5, fmt=\".2f\")\n",
        "plt.title(\"Correlation Matrix Heatmap\")\n",
        "plt.show()\n",
        "\n"
      ],
      "metadata": {
        "colab": {
          "base_uri": "https://localhost:8080/",
          "height": 545
        },
        "id": "B7ifsz3jpIPO",
        "outputId": "6055bc8d-d4fb-4777-f181-95bdf7a6505a"
      },
      "execution_count": 27,
      "outputs": [
        {
          "output_type": "display_data",
          "data": {
            "text/plain": [
              "<Figure size 800x600 with 2 Axes>"
            ],
            "image/png": "[encoded data removed]"
          },
          "metadata": {}
        }
      ]
    },
    {
      "cell_type": "code",
      "source": [
        "# 22) Generate a dataset and implement both variance and standard deviation computations\n",
        "\n",
        "\n",
        "import numpy as np\n",
        "\n",
        "np.random.seed(42)\n",
        "data = np.random.normal(loc=50, scale=10, size=1000)\n",
        "\n",
        "\n",
        "variance = np.var(data)\n",
        "\n",
        "std_dev = np.std(data)\n",
        "\n",
        "print(f\"Variance: {variance:.2f}\")\n",
        "print(f\"Standard Deviation: {std_dev:.2f}\")\n"
      ],
      "metadata": {
        "colab": {
          "base_uri": "https://localhost:8080/"
        },
        "id": "1Q1MrNnmppIm",
        "outputId": "5c038b7a-7b06-4955-bbaf-93c17b068229"
      },
      "execution_count": 28,
      "outputs": [
        {
          "output_type": "stream",
          "name": "stdout",
          "text": [
            "Variance: 95.79\n",
            "Standard Deviation: 9.79\n"
          ]
        }
      ]
    },
    {
      "cell_type": "code",
      "source": [
        "# 23) Visualize skewness and kurtosis using Python libraries like matplotlib or seaborn\n",
        "\n",
        "import numpy as np\n",
        "import pandas as pd\n",
        "import seaborn as sns\n",
        "import matplotlib.pyplot as plt\n",
        "from scipy.stats import skew, kurtosis\n",
        "\n",
        "\n",
        "np.random.seed(42)\n",
        "data = np.random.gamma(shape=2, scale=2, size=1000)\n",
        "\n",
        "data_skewness = skew(data)\n",
        "data_kurtosis = kurtosis(data)\n",
        "\n",
        "print(f\"Skewness: {data_skewness:.2f}\")\n",
        "print(f\"Kurtosis: {data_kurtosis:.2f}\")\n",
        "\n",
        "plt.figure(figsize=(10, 6))\n",
        "sns.histplot(data, bins=30, kde=True, color='skyblue')\n",
        "\n",
        "mean = np.mean(data)\n",
        "median = np.median(data)\n",
        "plt.axvline(mean, color='r', linestyle='dashed', linewidth=2, label=f'Mean: {mean:.2f}')\n",
        "plt.axvline(median, color='g', linestyle='dotted', linewidth=2, label=f'Median: {median:.2f}')\n",
        "\n",
        "plt.title(\"Distribution with Skewness and Kurtosis\")\n",
        "plt.xlabel(\"Value\")\n",
        "plt.ylabel(\"Frequency\")\n",
        "plt.legend()\n",
        "plt.show()\n"
      ],
      "metadata": {
        "colab": {
          "base_uri": "https://localhost:8080/",
          "height": 599
        },
        "id": "3lb3Yxx_qcZY",
        "outputId": "32f01b6c-2f33-458b-f1da-16bff4aa8dfd"
      },
      "execution_count": 30,
      "outputs": [
        {
          "output_type": "stream",
          "name": "stdout",
          "text": [
            "Skewness: 1.20\n",
            "Kurtosis: 1.43\n"
          ]
        },
        {
          "output_type": "display_data",
          "data": {
            "text/plain": [
              "<Figure size 1000x600 with 1 Axes>"
            ],
            "image/png": "[encoded data removed]"
          },
          "metadata": {}
        }
      ]
    },
    {
      "cell_type": "code",
      "source": [
        "# 24) Implement the Pearson and Spearman correlation coefficients for a dataset.\n",
        "\n",
        "import numpy as np\n",
        "import pandas as pd\n",
        "from scipy.stats import pearsonr, spearmanr\n",
        "\n",
        "np.random.seed(42)\n",
        "x = np.random.normal(50, 10, 100)\n",
        "y = 0.5 * x + np.random.normal(0, 5, 100)\n",
        "\n",
        "df = pd.DataFrame({'X': x, 'Y': y})\n",
        "\n",
        "pearson_corr, pearson_pval = pearsonr(df['X'], df['Y'])\n",
        "\n",
        "spearman_corr, spearman_pval = spearmanr(df['X'], df['Y'])\n",
        "\n",
        "print(f\"Pearson Correlation: {pearson_corr:.3f} (p-value: {pearson_pval:.3f})\")\n",
        "print(f\"Spearman Correlation: {spearman_corr:.3f} (p-value: {spearman_pval:.3f})\")\n",
        "\n"
      ],
      "metadata": {
        "colab": {
          "base_uri": "https://localhost:8080/"
        },
        "id": "MncyenoGqvmF",
        "outputId": "4b30482e-5603-44c5-c210-9cdb8e453caf"
      },
      "execution_count": 31,
      "outputs": [
        {
          "output_type": "stream",
          "name": "stdout",
          "text": [
            "Pearson Correlation: 0.636 (p-value: 0.000)\n",
            "Spearman Correlation: 0.600 (p-value: 0.000)\n"
          ]
        }
      ]
    }
  ]
}